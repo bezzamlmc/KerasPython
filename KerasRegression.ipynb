{
    "cells": [
        {
            "cell_type": "code",
            "execution_count": 1,
            "metadata": {},
            "outputs": [],
            "source": "import pandas as pd\nimport numpy as np"
        },
        {
            "cell_type": "markdown",
            "metadata": {},
            "source": "Load Concrete date"
        },
        {
            "cell_type": "code",
            "execution_count": 2,
            "metadata": {},
            "outputs": [
                {
                    "data": {
                        "text/html": "<div>\n<style scoped>\n    .dataframe tbody tr th:only-of-type {\n        vertical-align: middle;\n    }\n\n    .dataframe tbody tr th {\n        vertical-align: top;\n    }\n\n    .dataframe thead th {\n        text-align: right;\n    }\n</style>\n<table border=\"1\" class=\"dataframe\">\n  <thead>\n    <tr style=\"text-align: right;\">\n      <th></th>\n      <th>Cement</th>\n      <th>Blast Furnace Slag</th>\n      <th>Fly Ash</th>\n      <th>Water</th>\n      <th>Superplasticizer</th>\n      <th>Coarse Aggregate</th>\n      <th>Fine Aggregate</th>\n      <th>Age</th>\n      <th>Strength</th>\n    </tr>\n  </thead>\n  <tbody>\n    <tr>\n      <th>0</th>\n      <td>540.0</td>\n      <td>0.0</td>\n      <td>0.0</td>\n      <td>162.0</td>\n      <td>2.5</td>\n      <td>1040.0</td>\n      <td>676.0</td>\n      <td>28</td>\n      <td>79.99</td>\n    </tr>\n    <tr>\n      <th>1</th>\n      <td>540.0</td>\n      <td>0.0</td>\n      <td>0.0</td>\n      <td>162.0</td>\n      <td>2.5</td>\n      <td>1055.0</td>\n      <td>676.0</td>\n      <td>28</td>\n      <td>61.89</td>\n    </tr>\n    <tr>\n      <th>2</th>\n      <td>332.5</td>\n      <td>142.5</td>\n      <td>0.0</td>\n      <td>228.0</td>\n      <td>0.0</td>\n      <td>932.0</td>\n      <td>594.0</td>\n      <td>270</td>\n      <td>40.27</td>\n    </tr>\n    <tr>\n      <th>3</th>\n      <td>332.5</td>\n      <td>142.5</td>\n      <td>0.0</td>\n      <td>228.0</td>\n      <td>0.0</td>\n      <td>932.0</td>\n      <td>594.0</td>\n      <td>365</td>\n      <td>41.05</td>\n    </tr>\n    <tr>\n      <th>4</th>\n      <td>198.6</td>\n      <td>132.4</td>\n      <td>0.0</td>\n      <td>192.0</td>\n      <td>0.0</td>\n      <td>978.4</td>\n      <td>825.5</td>\n      <td>360</td>\n      <td>44.30</td>\n    </tr>\n  </tbody>\n</table>\n</div>",
                        "text/plain": "   Cement  Blast Furnace Slag  Fly Ash  Water  Superplasticizer  \\\n0   540.0                 0.0      0.0  162.0               2.5   \n1   540.0                 0.0      0.0  162.0               2.5   \n2   332.5               142.5      0.0  228.0               0.0   \n3   332.5               142.5      0.0  228.0               0.0   \n4   198.6               132.4      0.0  192.0               0.0   \n\n   Coarse Aggregate  Fine Aggregate  Age  Strength  \n0            1040.0           676.0   28     79.99  \n1            1055.0           676.0   28     61.89  \n2             932.0           594.0  270     40.27  \n3             932.0           594.0  365     41.05  \n4             978.4           825.5  360     44.30  "
                    },
                    "execution_count": 2,
                    "metadata": {},
                    "output_type": "execute_result"
                }
            ],
            "source": "concrete_data = pd.read_csv('https://cocl.us/concrete_data/concrete_data.csv')\nconcrete_data.head()"
        },
        {
            "cell_type": "markdown",
            "metadata": {},
            "source": "Check the size of the data"
        },
        {
            "cell_type": "code",
            "execution_count": 3,
            "metadata": {},
            "outputs": [
                {
                    "data": {
                        "text/plain": "(1030, 9)"
                    },
                    "execution_count": 3,
                    "metadata": {},
                    "output_type": "execute_result"
                }
            ],
            "source": "concrete_data.shape"
        },
        {
            "cell_type": "markdown",
            "metadata": {},
            "source": "Check columns and contents"
        },
        {
            "cell_type": "code",
            "execution_count": 3,
            "metadata": {},
            "outputs": [
                {
                    "data": {
                        "text/plain": "<bound method NDFrame.describe of       Cement  Blast Furnace Slag  Fly Ash  Water  Superplasticizer  \\\n0      540.0                 0.0      0.0  162.0               2.5   \n1      540.0                 0.0      0.0  162.0               2.5   \n2      332.5               142.5      0.0  228.0               0.0   \n3      332.5               142.5      0.0  228.0               0.0   \n4      198.6               132.4      0.0  192.0               0.0   \n5      266.0               114.0      0.0  228.0               0.0   \n6      380.0                95.0      0.0  228.0               0.0   \n7      380.0                95.0      0.0  228.0               0.0   \n8      266.0               114.0      0.0  228.0               0.0   \n9      475.0                 0.0      0.0  228.0               0.0   \n10     198.6               132.4      0.0  192.0               0.0   \n11     198.6               132.4      0.0  192.0               0.0   \n12     427.5                47.5      0.0  228.0               0.0   \n13     190.0               190.0      0.0  228.0               0.0   \n14     304.0                76.0      0.0  228.0               0.0   \n15     380.0                 0.0      0.0  228.0               0.0   \n16     139.6               209.4      0.0  192.0               0.0   \n17     342.0                38.0      0.0  228.0               0.0   \n18     380.0                95.0      0.0  228.0               0.0   \n19     475.0                 0.0      0.0  228.0               0.0   \n20     427.5                47.5      0.0  228.0               0.0   \n21     139.6               209.4      0.0  192.0               0.0   \n22     139.6               209.4      0.0  192.0               0.0   \n23     139.6               209.4      0.0  192.0               0.0   \n24     380.0                 0.0      0.0  228.0               0.0   \n25     380.0                 0.0      0.0  228.0               0.0   \n26     380.0                95.0      0.0  228.0               0.0   \n27     342.0                38.0      0.0  228.0               0.0   \n28     427.5                47.5      0.0  228.0               0.0   \n29     475.0                 0.0      0.0  228.0               0.0   \n...      ...                 ...      ...    ...               ...   \n1000   141.9               166.6    129.7  173.5              10.9   \n1001   297.8               137.2    106.9  201.3               6.0   \n1002   321.3               164.2      0.0  190.5               4.6   \n1003   366.0               187.0      0.0  191.3               6.6   \n1004   279.8               128.9    100.4  172.4               9.5   \n1005   252.1                97.1     75.6  193.8               8.3   \n1006   164.6                 0.0    150.4  181.6              11.7   \n1007   155.6               243.5      0.0  180.3              10.7   \n1008   160.2               188.0    146.4  203.2              11.3   \n1009   298.1                 0.0    107.0  186.4               6.1   \n1010   317.9                 0.0    126.5  209.7               5.7   \n1011   287.3               120.5     93.9  187.6               9.2   \n1012   325.6               166.4      0.0  174.0               8.9   \n1013   355.9                 0.0    141.6  193.3              11.0   \n1014   132.0               206.5    160.9  178.9               5.5   \n1015   322.5               148.6      0.0  185.8               8.5   \n1016   164.2                 0.0    200.1  181.2              12.6   \n1017   313.8                 0.0    112.6  169.9              10.1   \n1018   321.4                 0.0    127.9  182.5              11.5   \n1019   139.7               163.9    127.7  236.7               5.8   \n1020   288.4               121.0      0.0  177.4               7.0   \n1021   298.2                 0.0    107.0  209.7              11.1   \n1022   264.5               111.0     86.5  195.5               5.9   \n1023   159.8               250.0      0.0  168.4              12.2   \n1024   166.0               259.7      0.0  183.2              12.7   \n1025   276.4               116.0     90.3  179.6               8.9   \n1026   322.2                 0.0    115.6  196.0              10.4   \n1027   148.5               139.4    108.6  192.7               6.1   \n1028   159.1               186.7      0.0  175.6              11.3   \n1029   260.9               100.5     78.3  200.6               8.6   \n\n      Coarse Aggregate  Fine Aggregate  Age  Strength  \n0               1040.0           676.0   28     79.99  \n1               1055.0           676.0   28     61.89  \n2                932.0           594.0  270     40.27  \n3                932.0           594.0  365     41.05  \n4                978.4           825.5  360     44.30  \n5                932.0           670.0   90     47.03  \n6                932.0           594.0  365     43.70  \n7                932.0           594.0   28     36.45  \n8                932.0           670.0   28     45.85  \n9                932.0           594.0   28     39.29  \n10               978.4           825.5   90     38.07  \n11               978.4           825.5   28     28.02  \n12               932.0           594.0  270     43.01  \n13               932.0           670.0   90     42.33  \n14               932.0           670.0   28     47.81  \n15               932.0           670.0   90     52.91  \n16              1047.0           806.9   90     39.36  \n17               932.0           670.0  365     56.14  \n18               932.0           594.0   90     40.56  \n19               932.0           594.0  180     42.62  \n20               932.0           594.0  180     41.84  \n21              1047.0           806.9   28     28.24  \n22              1047.0           806.9    3      8.06  \n23              1047.0           806.9  180     44.21  \n24               932.0           670.0  365     52.52  \n25               932.0           670.0  270     53.30  \n26               932.0           594.0  270     41.15  \n27               932.0           670.0  180     52.12  \n28               932.0           594.0   28     37.43  \n29               932.0           594.0    7     38.60  \n...                ...             ...  ...       ...  \n1000             882.6           785.3   28     44.61  \n1001             878.4           655.3   28     53.52  \n1002             870.0           774.0   28     57.22  \n1003             824.3           756.9   28     65.91  \n1004             825.1           804.9   28     52.83  \n1005             835.5           821.4   28     33.40  \n1006            1023.3           728.9   28     18.03  \n1007            1022.0           697.7   28     37.36  \n1008             828.7           709.7   28     35.31  \n1009             879.0           815.2   28     42.64  \n1010             860.5           736.6   28     40.06  \n1011             904.4           695.9   28     43.80  \n1012             881.6           790.0   28     61.24  \n1013             801.4           778.4   28     40.87  \n1014             866.9           735.6   28     33.31  \n1015             951.0           709.5   28     52.43  \n1016             849.3           846.0   28     15.09  \n1017             925.3           782.9   28     38.46  \n1018             870.1           779.7   28     37.27  \n1019             868.6           655.6   28     35.23  \n1020             907.9           829.5   28     42.14  \n1021             879.6           744.2   28     31.88  \n1022             832.6           790.4   28     41.54  \n1023            1049.3           688.2   28     39.46  \n1024             858.8           826.8   28     37.92  \n1025             870.1           768.3   28     44.28  \n1026             817.9           813.4   28     31.18  \n1027             892.4           780.0   28     23.70  \n1028             989.6           788.9   28     32.77  \n1029             864.5           761.5   28     32.40  \n\n[1030 rows x 9 columns]>"
                    },
                    "execution_count": 3,
                    "metadata": {},
                    "output_type": "execute_result"
                }
            ],
            "source": "concrete_data.describe"
        },
        {
            "cell_type": "markdown",
            "metadata": {},
            "source": "Let's check if we are missing values"
        },
        {
            "cell_type": "code",
            "execution_count": 4,
            "metadata": {},
            "outputs": [
                {
                    "data": {
                        "text/plain": "Cement                0\nBlast Furnace Slag    0\nFly Ash               0\nWater                 0\nSuperplasticizer      0\nCoarse Aggregate      0\nFine Aggregate        0\nAge                   0\nStrength              0\ndtype: int64"
                    },
                    "execution_count": 4,
                    "metadata": {},
                    "output_type": "execute_result"
                }
            ],
            "source": "concrete_data.isnull().sum()"
        },
        {
            "cell_type": "markdown",
            "metadata": {},
            "source": "Predictors are all columns exceft for Strength which is the target"
        },
        {
            "cell_type": "code",
            "execution_count": 5,
            "metadata": {},
            "outputs": [],
            "source": "concrete_data_cols = concrete_data.columns\npredictors = concrete_data[concrete_data_cols[concrete_data_cols != 'Strength']]\ntarget = concrete_data['Strength']"
        },
        {
            "cell_type": "markdown",
            "metadata": {},
            "source": "Normalize the data"
        },
        {
            "cell_type": "markdown",
            "metadata": {},
            "source": "#predictors_norm = (predictors - predictors.mean()) / predictors.std()\n#predictors_norm.head()"
        },
        {
            "cell_type": "code",
            "execution_count": 6,
            "metadata": {},
            "outputs": [],
            "source": "#n_cols = predictors_norm.shape[1] # number of predictors to be used to build the NN\nn_cols = predictors.shape[1] # number of predictors to be used to build the NN"
        },
        {
            "cell_type": "markdown",
            "metadata": {},
            "source": "Let's get started with Keras"
        },
        {
            "cell_type": "code",
            "execution_count": 7,
            "metadata": {},
            "outputs": [
                {
                    "name": "stderr",
                    "output_type": "stream",
                    "text": "Using TensorFlow backend.\n"
                }
            ],
            "source": "import keras"
        },
        {
            "cell_type": "code",
            "execution_count": 8,
            "metadata": {},
            "outputs": [],
            "source": "from keras.models import Sequential\nfrom keras.layers import Dense"
        },
        {
            "cell_type": "markdown",
            "metadata": {},
            "source": "Let's define a regression model, using 1 layer with 10 nodes, the ReLU activation function, adam as the optimizer and the mean squared error as the loss function"
        },
        {
            "cell_type": "code",
            "execution_count": 9,
            "metadata": {},
            "outputs": [],
            "source": "def regression_model():\n    model = Sequential()\n    model.add(Dense(10,activation='relu',input_shape=(n_cols,)))\n    model.add(Dense(1))\n    model.compile(optimizer='adam', loss='mean_squared_error')\n    return model"
        },
        {
            "cell_type": "markdown",
            "metadata": {},
            "source": "Train and test the network"
        },
        {
            "cell_type": "code",
            "execution_count": 10,
            "metadata": {},
            "outputs": [
                {
                    "name": "stdout",
                    "output_type": "stream",
                    "text": "WARNING:tensorflow:From /opt/conda/envs/Python36/lib/python3.6/site-packages/tensorflow/python/framework/op_def_library.py:263: colocate_with (from tensorflow.python.framework.ops) is deprecated and will be removed in a future version.\nInstructions for updating:\nColocations handled automatically by placer.\n['loss']\n"
                }
            ],
            "source": "model = regression_model()\nprint(model.metrics_names)"
        },
        {
            "cell_type": "markdown",
            "metadata": {},
            "source": "Train the model using 50 epochs - loop 50 times reporting the mean squared errors"
        },
        {
            "cell_type": "code",
            "execution_count": 16,
            "metadata": {},
            "outputs": [
                {
                    "name": "stdout",
                    "output_type": "stream",
                    "text": "Train on 721 samples, validate on 309 samples\nEpoch 1/5\n - 1s - loss: 1204.4031 - val_loss: 1492.0050\nEpoch 2/5\n - 3s - loss: 1119.9680 - val_loss: 1436.2751\nEpoch 3/5\n - 0s - loss: 1060.8093 - val_loss: 1338.2214\nEpoch 4/5\n - 0s - loss: 1008.2146 - val_loss: 1232.7307\nEpoch 5/5\n - 0s - loss: 952.8430 - val_loss: 1169.8754\n[942.5917735670763]\n"
                }
            ],
            "source": "from sklearn.model_selection import train_test_split\nX_train, X_test, y_train, y_test = train_test_split(predictors, target, test_size=0.30, random_state=24)\nscores = []\n# fit the model\nfor i in range(1):\n    model.fit(predictors, target, validation_split=0.3, epochs=5, verbose=2)\n    ll = model.evaluate(X_test, y_test, verbose=0)\n    scores.append(ll)\nprint(scores)\n "
        },
        {
            "cell_type": "code",
            "execution_count": 15,
            "metadata": {},
            "outputs": [
                {
                    "name": "stdout",
                    "output_type": "stream",
                    "text": "1292.7218805701987\n"
                }
            ],
            "source": "print(scores)"
        }
    ],
    "metadata": {
        "kernelspec": {
            "display_name": "Python 3.6",
            "language": "python",
            "name": "python3"
        },
        "language_info": {
            "codemirror_mode": {
                "name": "ipython",
                "version": 3
            },
            "file_extension": ".py",
            "mimetype": "text/x-python",
            "name": "python",
            "nbconvert_exporter": "python",
            "pygments_lexer": "ipython3",
            "version": "3.6.9"
        }
    },
    "nbformat": 4,
    "nbformat_minor": 1
}